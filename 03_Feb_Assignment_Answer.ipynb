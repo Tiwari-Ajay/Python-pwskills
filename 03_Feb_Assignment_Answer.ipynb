{
  "nbformat": 4,
  "nbformat_minor": 0,
  "metadata": {
    "colab": {
      "provenance": []
    },
    "kernelspec": {
      "name": "python3",
      "display_name": "Python 3"
    },
    "language_info": {
      "name": "python"
    }
  },
  "cells": [
    {
      "cell_type": "markdown",
      "source": [
        "# **03_Feb_Assignment_Answer**\n",
        "\n",
        "**Name: Ajay Tiwari**\n",
        "\n",
        "**Email: ajayktiwari02@gmail.com**"
      ],
      "metadata": {
        "id": "bpVXGKOKwf0s"
      }
    },
    {
      "cell_type": "markdown",
      "source": [
        "### **Solution (1)**:\n",
        "\n",
        "**Which keyword is used to create a function?:**\n",
        "\n",
        "- del keyword is used to create a function"
      ],
      "metadata": {
        "id": "Z_kUPUF0w1Xe"
      }
    },
    {
      "cell_type": "code",
      "source": [
        "#a function to return a list of odd numbers in the range of 1 to 25\n",
        "def odd_num_list():\n",
        "  list1=[]\n",
        "  for i in range(1,26):\n",
        "    if(i%2!=0):\n",
        "      list1.append(i)\n",
        "  return list1\n",
        "\n",
        "#call of method\n",
        "List=odd_num_list()\n",
        "print(List)"
      ],
      "metadata": {
        "colab": {
          "base_uri": "https://localhost:8080/"
        },
        "id": "yAfjL5rYw8nr",
        "outputId": "fc765179-d406-457d-bc3e-52542106528f"
      },
      "execution_count": 78,
      "outputs": [
        {
          "output_type": "stream",
          "name": "stdout",
          "text": [
            "[1, 3, 5, 7, 9, 11, 13, 15, 17, 19, 21, 23, 25]\n"
          ]
        }
      ]
    },
    {
      "cell_type": "markdown",
      "source": [
        "### **Solution (2)**:\n",
        "\n",
        "\"Why *args and **kwargs is used in some functions?\"\n",
        "\n",
        "- When we don't know about number of parameters passed in method then *args and **kwargs is used in method.\n",
        "\n",
        "- *args is known as variable length argument-list. it stores all arguments as list.\n",
        "\n",
        "- **kwargs is known as keybord arguments. it stores all arguments as dictionary.\n",
        "\n"
      ],
      "metadata": {
        "id": "RVQmX87Dx_PL"
      }
    },
    {
      "cell_type": "code",
      "source": [
        "#use of *args in method\n",
        "def fun1(*args):\n",
        "  for x in args:\n",
        "    print(x)\n",
        "fun1(10,20,30)"
      ],
      "metadata": {
        "colab": {
          "base_uri": "https://localhost:8080/"
        },
        "id": "-LSYqE-E0Hgm",
        "outputId": "74c63ba0-fd45-4ea0-c395-ca51ecc8077c"
      },
      "execution_count": 79,
      "outputs": [
        {
          "output_type": "stream",
          "name": "stdout",
          "text": [
            "10\n",
            "20\n",
            "30\n"
          ]
        }
      ]
    },
    {
      "cell_type": "code",
      "source": [
        "#use of **kwargs in method\n",
        "def fun2(**kwargs):\n",
        "  for key,value in kwargs.items():\n",
        "    print('key: {} and value: {}'.format(key, value))\n",
        "fun2(a=10,b=20,c=30)"
      ],
      "metadata": {
        "colab": {
          "base_uri": "https://localhost:8080/"
        },
        "id": "c56Mi95h0eIm",
        "outputId": "0283b78e-45eb-400f-85bc-509e4de93d2c"
      },
      "execution_count": 80,
      "outputs": [
        {
          "output_type": "stream",
          "name": "stdout",
          "text": [
            "key: a and value: 10\n",
            "key: b and value: 20\n",
            "key: c and value: 30\n"
          ]
        }
      ]
    },
    {
      "cell_type": "markdown",
      "source": [
        "### **Solution (3)**:\n",
        "\n",
        "**What is an iterator in python?**\n",
        "\n",
        "- Iterator is an object that is used to iterate over iterable objects like lists, tuples, dicts, and sets.\n",
        "\n",
        "**method used to initialise the iterator object:**\n",
        "\n",
        "- iter() is used to initialize the iterator object.\n",
        "\n",
        "**method used for iteration:**\n",
        "\n",
        "- next() is used for iterate the iterator.\n"
      ],
      "metadata": {
        "id": "IV-H9ac71OdG"
      }
    },
    {
      "cell_type": "code",
      "source": [
        "list1=[2, 4, 6, 8, 10, 12, 14, 16,18, 20]\n",
        "def iter_fun(list1):\n",
        "  iter_list=iter(list1)\n",
        "  for i,x in enumerate(iter_list):\n",
        "    if i==5:\n",
        "      break\n",
        "    else:\n",
        "      print(x)\n",
        "\n",
        "iter_fun(list1)\n"
      ],
      "metadata": {
        "colab": {
          "base_uri": "https://localhost:8080/"
        },
        "id": "mBL5lNSw3NOi",
        "outputId": "427115aa-0c0c-4f59-895d-78e0e8532dde"
      },
      "execution_count": 81,
      "outputs": [
        {
          "output_type": "stream",
          "name": "stdout",
          "text": [
            "2\n",
            "4\n",
            "6\n",
            "8\n",
            "10\n"
          ]
        }
      ]
    },
    {
      "cell_type": "markdown",
      "source": [
        "### **Solution (4)**:\n",
        "\n",
        "**What is a generator function in python?:**\n",
        "\n",
        "- Generator function is defind as normal function but it uses yield rather than return. Generator function behaves likes an iterator.\n",
        "\n",
        "- Any function which contains yield is known as generator method. \n",
        "\n",
        "**Why yield keyword is used?:**\n",
        "\n",
        "- yield keyword is used to create a generator function.\n",
        "- yield keyword is used to return some thing from generator function."
      ],
      "metadata": {
        "id": "DVFq8wXU4eSS"
      }
    },
    {
      "cell_type": "code",
      "source": [
        "#Example of iterator function\n",
        "def gen_fun():\n",
        "  yield 1\n",
        "  yield 2\n",
        "  yield 3\n",
        "  yield 4\n",
        "  yield 5\n",
        "\n",
        "print('Method Type: ',type(gen_fun()))\n",
        "print('uses type-1')\n",
        "for x in gen_fun():\n",
        "  print(x, end=' ')\n",
        "print()\n",
        "print('uses type-2')\n",
        "x=gen_fun()\n",
        "print(next(x), end=' ')\n",
        "print(next(x), end=' ')\n",
        "print(next(x), end=' ')\n",
        "print(next(x), end=' ')\n",
        "print(next(x))\n"
      ],
      "metadata": {
        "colab": {
          "base_uri": "https://localhost:8080/"
        },
        "id": "Tn__iRLx7Yc4",
        "outputId": "87029c91-23d2-44ae-fc33-f34be517c08f"
      },
      "execution_count": 82,
      "outputs": [
        {
          "output_type": "stream",
          "name": "stdout",
          "text": [
            "Method Type:  <class 'generator'>\n",
            "uses type-1\n",
            "1 2 3 4 5 \n",
            "uses type-2\n",
            "1 2 3 4 5\n"
          ]
        }
      ]
    },
    {
      "cell_type": "markdown",
      "source": [
        "### **Solution (5)**: "
      ],
      "metadata": {
        "id": "a81ulIit85Eg"
      }
    },
    {
      "cell_type": "code",
      "source": [
        "#Method - 1, complexity = O(n^2)\n",
        "import math as m\n",
        "def prime_1000(n):\n",
        "  for i in range(2,n):\n",
        "    f=0\n",
        "    for j in range(2,i):\n",
        "      if i%j==0:\n",
        "        f=1\n",
        "        break\n",
        "    if f==0:\n",
        "      yield i\n",
        "x=prime_1000(1000)\n",
        "print('First 20 prime numbers: ')\n",
        "i=0\n",
        "while(i<20):\n",
        "  print(next(x), end=' ')\n",
        "  i+=1"
      ],
      "metadata": {
        "colab": {
          "base_uri": "https://localhost:8080/"
        },
        "id": "cd7O7zNQ9OfW",
        "outputId": "156e5025-bb25-4057-f877-7184d41c27ad"
      },
      "execution_count": 83,
      "outputs": [
        {
          "output_type": "stream",
          "name": "stdout",
          "text": [
            "First 20 prime numbers: \n",
            "2 3 5 7 11 13 17 19 23 29 31 37 41 43 47 53 59 61 67 71 "
          ]
        }
      ]
    },
    {
      "cell_type": "code",
      "source": [
        "#Method-2, Complexity = O(n^(1.5))\n",
        "import math as m\n",
        "def prime_1000(n):\n",
        "  for i in range(2,n):\n",
        "    f=0\n",
        "    for j in range(2,m.floor(m.sqrt(i)+1)):\n",
        "      if i%j==0:\n",
        "        f=1\n",
        "        break\n",
        "    if f==0:\n",
        "      yield i\n",
        "x=prime_1000(1000)\n",
        "print('First 20 prime numbers: ')\n",
        "i=0\n",
        "while(i<20):\n",
        "  print(next(x), end=' ')\n",
        "  i+=1"
      ],
      "metadata": {
        "colab": {
          "base_uri": "https://localhost:8080/"
        },
        "id": "_zIweZpTBDMz",
        "outputId": "a4449bcd-82d8-49d2-a677-9320757fc1b8"
      },
      "execution_count": 84,
      "outputs": [
        {
          "output_type": "stream",
          "name": "stdout",
          "text": [
            "First 20 prime numbers: \n",
            "2 3 5 7 11 13 17 19 23 29 31 37 41 43 47 53 59 61 67 71 "
          ]
        }
      ]
    }
  ]
}