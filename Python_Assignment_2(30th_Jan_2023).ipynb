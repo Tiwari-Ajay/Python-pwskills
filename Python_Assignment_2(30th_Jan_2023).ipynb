{
  "nbformat": 4,
  "nbformat_minor": 0,
  "metadata": {
    "colab": {
      "provenance": []
    },
    "kernelspec": {
      "name": "python3",
      "display_name": "Python 3"
    },
    "language_info": {
      "name": "python"
    }
  },
  "cells": [
    {
      "cell_type": "markdown",
      "source": [
        "# Python Assignment-2 (30th Jan 2023)"
      ],
      "metadata": {
        "id": "aOUFn8mEAOSg"
      }
    },
    {
      "cell_type": "markdown",
      "source": [
        "### **Solution (1)**:"
      ],
      "metadata": {
        "id": "kDjhLEZxAk15"
      }
    },
    {
      "cell_type": "code",
      "execution_count": 58,
      "metadata": {
        "colab": {
          "base_uri": "https://localhost:8080/"
        },
        "id": "fZ9R2iE_AFSy",
        "outputId": "7e4b83ac-00e6-418f-db27-42f8771ed2f7"
      },
      "outputs": [
        {
          "output_type": "stream",
          "name": "stdout",
          "text": [
            "Enter your Percentage: 65\n",
            "Grade: C\n"
          ]
        }
      ],
      "source": [
        "percentage=float(input('Enter your Percentage: '))\n",
        "if(percentage>90):\n",
        "  print('Grade:','A')\n",
        "elif(percentage>80 and percentage<=90):\n",
        "  print('Grade:','B')\n",
        "elif(percentage>=60 and percentage<=80):\n",
        "  print('Grade:','C')\n",
        "else:\n",
        "  print('Grade:','D')"
      ]
    },
    {
      "cell_type": "markdown",
      "source": [
        "### **Solution (2)**: "
      ],
      "metadata": {
        "id": "GvqR6hzACsli"
      }
    },
    {
      "cell_type": "code",
      "source": [
        "cost_price=float(input('Enter Cost Price of Bike: '))\n",
        "tax=0.0\n",
        "if(cost_price>100000):\n",
        "  tax=(cost_price*15)/100\n",
        "elif(cost_price>50000 and cost_price<=100000):\n",
        "  tax=(cost_price*10)/100\n",
        "else:\n",
        "  tax=(cost_price*5)/100\n",
        "print('Road Tax: {}'.format(tax))"
      ],
      "metadata": {
        "colab": {
          "base_uri": "https://localhost:8080/"
        },
        "id": "ewyJIR4WCqXf",
        "outputId": "51ac0a9c-4e2c-4187-b935-eb02a46e71bc"
      },
      "execution_count": 59,
      "outputs": [
        {
          "output_type": "stream",
          "name": "stdout",
          "text": [
            "Enter Cost Price of Bike: 1100000\n",
            "Road Tax: 165000.0\n"
          ]
        }
      ]
    },
    {
      "cell_type": "markdown",
      "source": [
        "### **Solution (3)**: "
      ],
      "metadata": {
        "id": "6f-zl9-EEJwt"
      }
    },
    {
      "cell_type": "code",
      "source": [
        "city=input('Enter Name of City: ')\n",
        "monument=''\n",
        "if(city.lower()=='delhi'):\n",
        "  monument='Red Fort'\n",
        "elif(city.lower()=='agra'):\n",
        "  monument='Taj Mahal'\n",
        "elif(city.lower()=='jaipur'):\n",
        "    monument='Jal Mahal'\n",
        "print('monument of {} : {}'.format(city,monument))"
      ],
      "metadata": {
        "colab": {
          "base_uri": "https://localhost:8080/"
        },
        "id": "RDr3ibdrEI6i",
        "outputId": "04a76825-7885-49d6-89c4-ff56240118ce"
      },
      "execution_count": 60,
      "outputs": [
        {
          "output_type": "stream",
          "name": "stdout",
          "text": [
            "Enter Name of City: Delhi\n",
            "monument of Delhi : Red Fort\n"
          ]
        }
      ]
    },
    {
      "cell_type": "markdown",
      "source": [
        "### **Solution (4)**: "
      ],
      "metadata": {
        "id": "SqnYLF1CHIfV"
      }
    },
    {
      "cell_type": "code",
      "source": [
        "number=float(input('Enter a number: '))\n",
        "num=number\n",
        "count=0\n",
        "while(number>10):\n",
        "  number/=3\n",
        "  count+=1\n",
        "print('No. of times {} will divide by 3: {}'.format(num,count))\n"
      ],
      "metadata": {
        "colab": {
          "base_uri": "https://localhost:8080/"
        },
        "id": "6rWEKYaXHHZ1",
        "outputId": "0bcd735c-402b-4d32-a49f-28abf6b5ca84"
      },
      "execution_count": 61,
      "outputs": [
        {
          "output_type": "stream",
          "name": "stdout",
          "text": [
            "Enter a number: 100\n",
            "No. of times 100.0 will divide by 3: 3\n"
          ]
        }
      ]
    },
    {
      "cell_type": "markdown",
      "source": [
        "### **Solution (5)**:\n",
        "\n",
        "**Why use while loop**: \n",
        "- while loop is used to execute a block of code until a certain condition is satisfied.\n",
        "\n",
        "**When use while loop**:\n",
        "- Specially, When we don't know no. of times that a block of code will execute in advance.\n",
        "\n",
        "**Example for While Loop:**\n",
        "\n",
        "- Example-1: Question (4) explains best use of while loop.\n",
        "\n",
        "- Example-2: Write a python program to print all the factors of a number."
      ],
      "metadata": {
        "id": "AyGIN05QIxDe"
      }
    },
    {
      "cell_type": "code",
      "source": [
        "#Note: for this problem for loop can't be use\n",
        "#Here while loop will be useful\n",
        "number=int(input('Enter a number: '))\n",
        "factor=1\n",
        "list1=[]\n",
        "while((number//factor)>0):\n",
        "  if(number%factor==0):\n",
        "    list1.append(factor)\n",
        "  factor+=1\n",
        "print('All factors of {}:{}'.format(number, list1))"
      ],
      "metadata": {
        "colab": {
          "base_uri": "https://localhost:8080/"
        },
        "id": "X7ZDN_Z-IzJh",
        "outputId": "e2a55f35-b775-4a38-ab43-8ec3c190cdcb"
      },
      "execution_count": 62,
      "outputs": [
        {
          "output_type": "stream",
          "name": "stdout",
          "text": [
            "Enter a number: 100\n",
            "All factors of 100:[1, 2, 4, 5, 10, 20, 25, 50, 100]\n"
          ]
        }
      ]
    },
    {
      "cell_type": "markdown",
      "source": [
        "### **Solution (6)**:\n"
      ],
      "metadata": {
        "id": "zYaB6nuhOTJB"
      }
    },
    {
      "cell_type": "code",
      "source": [
        "i=0\n",
        "n=5\n",
        "while(i<3):\n",
        "  if(i==0):\n",
        "    print('Pattern-1: ')\n",
        "    j=1\n",
        "    while(j<=n):\n",
        "      k=0\n",
        "      while(k<j):\n",
        "        print('*',end='') \n",
        "        k+=1\n",
        "      print()\n",
        "      j+=1\n",
        "  elif(i==1):\n",
        "    print('Pattern-2: ')\n",
        "    j=1\n",
        "    while(j<=n):\n",
        "      k=0\n",
        "      while(k<n):\n",
        "        print('#',end='') \n",
        "        k+=1\n",
        "      print()\n",
        "      j+=1\n",
        "  else:\n",
        "    print('Pattern-3: ')\n",
        "    j=0\n",
        "    while(j<=n):\n",
        "      k=n\n",
        "      while((k-j)>0):\n",
        "        print('@',end='') \n",
        "        k-=1\n",
        "      print()\n",
        "      j+=1\n",
        "  i+=1"
      ],
      "metadata": {
        "colab": {
          "base_uri": "https://localhost:8080/"
        },
        "id": "fNMFHdN5OSdg",
        "outputId": "0fca8df9-8395-4a71-cd6b-b6091a944f4c"
      },
      "execution_count": 63,
      "outputs": [
        {
          "output_type": "stream",
          "name": "stdout",
          "text": [
            "Pattern-1: \n",
            "*\n",
            "**\n",
            "***\n",
            "****\n",
            "*****\n",
            "Pattern-2: \n",
            "#####\n",
            "#####\n",
            "#####\n",
            "#####\n",
            "#####\n",
            "Pattern-3: \n",
            "@@@@@\n",
            "@@@@\n",
            "@@@\n",
            "@@\n",
            "@\n",
            "\n"
          ]
        }
      ]
    },
    {
      "cell_type": "markdown",
      "source": [
        "### **Solution (7)**:"
      ],
      "metadata": {
        "id": "kOakosk8VImb"
      }
    },
    {
      "cell_type": "code",
      "source": [
        "#reverse while loop to print number form 10 to 1\n",
        "n=10\n",
        "while(n>0):\n",
        "  print(n,end=' ')\n",
        "  n-=1"
      ],
      "metadata": {
        "colab": {
          "base_uri": "https://localhost:8080/"
        },
        "id": "8Q9JztTnVHyX",
        "outputId": "927a21b8-874c-4160-ecd5-0b3fceb0a4c1"
      },
      "execution_count": 64,
      "outputs": [
        {
          "output_type": "stream",
          "name": "stdout",
          "text": [
            "10 9 8 7 6 5 4 3 2 1 "
          ]
        }
      ]
    },
    {
      "cell_type": "markdown",
      "source": [
        "### **Solution (8)**:"
      ],
      "metadata": {
        "id": "mKKmwZiWVuJ1"
      }
    },
    {
      "cell_type": "code",
      "source": [
        "#reverse while loop to print number form 10 to 1\n",
        "list1=[1,2,3,4,5,6,7,8,9,10]\n",
        "i=-1\n",
        "while(i>=-10):\n",
        "  print(list1[i], end=' ')\n",
        "  i-=1"
      ],
      "metadata": {
        "colab": {
          "base_uri": "https://localhost:8080/"
        },
        "id": "BcIGUIgTVtWE",
        "outputId": "983640fc-088b-4d7f-b145-901070a03a29"
      },
      "execution_count": 65,
      "outputs": [
        {
          "output_type": "stream",
          "name": "stdout",
          "text": [
            "10 9 8 7 6 5 4 3 2 1 "
          ]
        }
      ]
    }
  ]
}