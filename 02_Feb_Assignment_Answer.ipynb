{
  "nbformat": 4,
  "nbformat_minor": 0,
  "metadata": {
    "colab": {
      "provenance": []
    },
    "kernelspec": {
      "name": "python3",
      "display_name": "Python 3"
    },
    "language_info": {
      "name": "python"
    }
  },
  "cells": [
    {
      "cell_type": "markdown",
      "source": [
        "# **02_Feb_Assignment_Answer**:"
      ],
      "metadata": {
        "id": "5pI53K42k0HT"
      }
    },
    {
      "cell_type": "markdown",
      "source": [
        "### **Solution (1)**:\n",
        "\n",
        "**Characteristics of the tuples:**\n",
        "- Ordered\n",
        "- Allow Duplicate Values\n",
        "- Unchangable\n",
        "\n",
        "**Is tuple immutable?**\n",
        "- Yes, tuple is immutable. it's element can be changed."
      ],
      "metadata": {
        "id": "4zZfjvYblIaZ"
      }
    },
    {
      "cell_type": "markdown",
      "source": [
        "### **Solution (2)**:\n",
        "**Two tuple methods in python:**\n",
        "\n",
        "(1) count()\n",
        "\n",
        "(2) index()\n",
        "\n",
        "**why tuples have only two in-built methods as compared to Lists:**\n",
        "\n",
        "- tuple is immutable in nature but list is mutable in nature. So, only two methods both list and tuple has common (1) count() (2) index().    "
      ],
      "metadata": {
        "id": "nTL3aTTHmyVp"
      }
    },
    {
      "cell_type": "code",
      "execution_count": 29,
      "metadata": {
        "colab": {
          "base_uri": "https://localhost:8080/"
        },
        "id": "VPWrQlFVkmEI",
        "outputId": "8135f5bf-e021-475e-a556-3c6284b73766"
      },
      "outputs": [
        {
          "output_type": "stream",
          "name": "stdout",
          "text": [
            "count of 20 is: 2\n",
            "index of 50 is: 4\n"
          ]
        }
      ],
      "source": [
        "#use of count() & index() in tuple\n",
        "tuple1=(10,20,30,40,50,10,10,20)\n",
        "#use of count()\n",
        "print('count of 20 is: {}'.format(tuple1.count(20)))\n",
        "#use of index()\n",
        "print('index of 50 is: {}'.format(tuple1.index(50)))\n"
      ]
    },
    {
      "cell_type": "markdown",
      "source": [
        "### **Solution (3)**:\n",
        "\n",
        "**Which collection datatypes in python do not allow duplicate items?:**\n",
        "\n",
        "- set() collection datatype not allowed duplicate items in python.\n",
        "\n",
        "**Implementation code Below using a set to remove duplicates from the given list:**"
      ],
      "metadata": {
        "id": "We_8UIZzvnsc"
      }
    },
    {
      "cell_type": "code",
      "source": [
        "#code using a set to remove duplicates from the given list.\n",
        "List = [1, 1, 1, 2, 1, 3, 1, 4, 2, 1, 2, 2, 2, 3, 2, 4, 3, 1, 3, 2, 3, 3, 3, 4, 4, 1, 4, 2, 4, 3, 4, 4]\n",
        "set1=set(List)\n",
        "print(set1)"
      ],
      "metadata": {
        "colab": {
          "base_uri": "https://localhost:8080/"
        },
        "id": "X40oFElCxvqi",
        "outputId": "37167e34-7e1e-4d2a-d01b-8e4c00eaf9a5"
      },
      "execution_count": 30,
      "outputs": [
        {
          "output_type": "stream",
          "name": "stdout",
          "text": [
            "{1, 2, 3, 4}\n"
          ]
        }
      ]
    },
    {
      "cell_type": "markdown",
      "source": [
        "### **Solution (4)**:\n",
        "\n",
        "**Difference between the union() and update() methods for a set:**\n",
        "\n",
        "- **union()** creates new set but **update()** adds new elements in existing set.\n"
      ],
      "metadata": {
        "id": "snbHvaY-ypRq"
      }
    },
    {
      "cell_type": "code",
      "source": [
        "#use of union() and update() in set\n",
        "set1={1,2,3,4}\n",
        "set2={3,4,5,6}\n",
        "\n",
        "#use of union()\n",
        "set1.union(set2)\n",
        "print('No union: ',set1) #not inplace\n",
        "set3=set1.union(set2)\n",
        "print('union: ',set3) \n",
        "\n",
        "#use of update()\n",
        "set1.update(set2)  #inplace\n",
        "print('updated set1: ',set1)"
      ],
      "metadata": {
        "colab": {
          "base_uri": "https://localhost:8080/"
        },
        "id": "AGus3hU6zlmt",
        "outputId": "ef203f4d-6f70-455a-b8a8-cc867677685d"
      },
      "execution_count": 31,
      "outputs": [
        {
          "output_type": "stream",
          "name": "stdout",
          "text": [
            "No union:  {1, 2, 3, 4}\n",
            "union:  {1, 2, 3, 4, 5, 6}\n",
            "updated set1:  {1, 2, 3, 4, 5, 6}\n"
          ]
        }
      ]
    },
    {
      "cell_type": "markdown",
      "source": [
        "### **Solution (5)**:\n",
        "\n",
        "**dictionary:**\n",
        "\n",
        "- dictionary is a collection which is mutable in nature.\n",
        "- dictionary not allow duplicates.\n",
        "- dictionary is ordered collection.\n",
        "\n",
        "**state whether a dictionary is ordered or unordered:**\n",
        "\n",
        "- dictionary is ordered collection. "
      ],
      "metadata": {
        "id": "02ttR3Mj0vnd"
      }
    },
    {
      "cell_type": "code",
      "source": [
        "#dictinary declaration\n",
        "dict1={}\n",
        "print(type(dict1))\n",
        "\n",
        "dict2={'name':'raju','roll':20}\n",
        "for key,value in dict2.items():\n",
        "  print('key: {} and value: {}'.format(key, value))\n",
        "#same key\n",
        "dict3={'name':'raju','name':'suresh'}\n",
        "print('same keys: ',dict3)\n",
        "#same value\n",
        "dict4={'name':'abc','class':'abc'}\n",
        "print('same values: ',dict4)"
      ],
      "metadata": {
        "colab": {
          "base_uri": "https://localhost:8080/"
        },
        "id": "tadwVs8N2PCt",
        "outputId": "92497cef-836b-4ddb-a595-e6901c521716"
      },
      "execution_count": 32,
      "outputs": [
        {
          "output_type": "stream",
          "name": "stdout",
          "text": [
            "<class 'dict'>\n",
            "key: name and value: raju\n",
            "key: roll and value: 20\n",
            "same keys:  {'name': 'suresh'}\n",
            "same values:  {'name': 'abc', 'class': 'abc'}\n"
          ]
        }
      ]
    },
    {
      "cell_type": "markdown",
      "source": [
        "### **Solution (6)**:\n",
        "\n",
        "**Can we create a nested dictionary?:**\n",
        "\n",
        "- Yes, we can create nested dictionary.\n",
        "\n",
        "**Example of creating a simple one-level nested dictionary Below:**"
      ],
      "metadata": {
        "id": "5SwNmwcO3q2E"
      }
    },
    {
      "cell_type": "code",
      "source": [
        "#one-level nested dictionary\n",
        "dict1={'a':{'a1':'(a)'},'b':{'b1':'(b)'}}\n",
        "for key, value in dict1.items():\n",
        "  for key1,value1 in value.items():\n",
        "    print('Parent Key: {} Child key: {} and value: {}'.format(key,key1,value1))"
      ],
      "metadata": {
        "colab": {
          "base_uri": "https://localhost:8080/"
        },
        "id": "l0CLTvNm4RD8",
        "outputId": "5c01d165-0bfd-47eb-d036-01b3fe8c1bb8"
      },
      "execution_count": 33,
      "outputs": [
        {
          "output_type": "stream",
          "name": "stdout",
          "text": [
            "Parent Key: a Child key: a1 and value: (a)\n",
            "Parent Key: b Child key: b1 and value: (b)\n"
          ]
        }
      ]
    },
    {
      "cell_type": "markdown",
      "source": [
        "### **Solution (7)**:\n"
      ],
      "metadata": {
        "id": "6GYXq7WLWiiz"
      }
    },
    {
      "cell_type": "code",
      "source": [
        "#use of setdefault()\n",
        "dict1 = {'language' : 'Python', 'course': 'Data Science Masters'}\n",
        "dict1.setdefault('topics',['Python', 'Machine Learning', 'Deep Learning'])\n",
        "print(dict1)"
      ],
      "metadata": {
        "colab": {
          "base_uri": "https://localhost:8080/"
        },
        "id": "R7iTkb4nYH1J",
        "outputId": "5216a83e-ad33-4df8-9cbd-07c33818b332"
      },
      "execution_count": 34,
      "outputs": [
        {
          "output_type": "stream",
          "name": "stdout",
          "text": [
            "{'language': 'Python', 'course': 'Data Science Masters', 'topics': ['Python', 'Machine Learning', 'Deep Learning']}\n"
          ]
        }
      ]
    },
    {
      "cell_type": "markdown",
      "source": [
        "### **Solution (8)**:\n",
        "\n",
        "**Three view objects in dictionary:**\n",
        "\n",
        "- keys\n",
        "- values\n",
        "-items\n",
        "\n",
        "**Use of three in-built methods in python to display these three view objects for the given dictionary Below:**"
      ],
      "metadata": {
        "id": "rKxrGw3HZoI7"
      }
    },
    {
      "cell_type": "code",
      "source": [
        "dict1 = {'Sport': 'Cricket' , 'Teams': ['India', 'Australia', 'England', 'South Africa', 'Sri Lanka', 'New Zealand']}\n",
        "print('Use of keys: ')\n",
        "for key in dict1.keys():\n",
        "  print(key,end=',')\n",
        "print()\n",
        "print('Use of values: ')\n",
        "for value in dict1.values():\n",
        "  print(value,end=',')\n",
        "print()\n",
        "print('Use of items: ')\n",
        "for key,value in dict1.items():\n",
        "  print('{}:{}'.format(key,value), end=',')\n"
      ],
      "metadata": {
        "colab": {
          "base_uri": "https://localhost:8080/"
        },
        "id": "qiDJnBXBaGxm",
        "outputId": "02fd9a50-3bae-4820-95f0-1d8afb32d4f6"
      },
      "execution_count": 35,
      "outputs": [
        {
          "output_type": "stream",
          "name": "stdout",
          "text": [
            "Use of keys: \n",
            "Sport,Teams,\n",
            "Use of values: \n",
            "Cricket,['India', 'Australia', 'England', 'South Africa', 'Sri Lanka', 'New Zealand'],\n",
            "Use of items: \n",
            "Sport:Cricket,Teams:['India', 'Australia', 'England', 'South Africa', 'Sri Lanka', 'New Zealand'],"
          ]
        }
      ]
    },
    {
      "cell_type": "markdown",
      "source": [
        "### **End of Assignment**\n",
        "\n"
      ],
      "metadata": {
        "id": "yVw-i-ard1jI"
      }
    }
  ]
}