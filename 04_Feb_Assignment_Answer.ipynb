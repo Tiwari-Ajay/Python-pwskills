{
  "nbformat": 4,
  "nbformat_minor": 0,
  "metadata": {
    "colab": {
      "provenance": []
    },
    "kernelspec": {
      "name": "python3",
      "display_name": "Python 3"
    },
    "language_info": {
      "name": "python"
    }
  },
  "cells": [
    {
      "cell_type": "markdown",
      "source": [
        "# **04 Feb Assignment Answer**\n",
        "\n",
        "**Name: Ajay Tiwari**\n",
        "\n",
        " **Email: ajayktiwari02@gmail.com**"
      ],
      "metadata": {
        "id": "nr4MK6XQm297"
      }
    },
    {
      "cell_type": "markdown",
      "source": [
        "### **Solution (1)**:"
      ],
      "metadata": {
        "id": "1VYKo3iAn5uU"
      }
    },
    {
      "cell_type": "code",
      "execution_count": 38,
      "metadata": {
        "colab": {
          "base_uri": "https://localhost:8080/"
        },
        "id": "_KqzUtFCmixu",
        "outputId": "0fe0f535-d3fc-45c1-e7d4-e0b191dd430f"
      },
      "outputs": [
        {
          "output_type": "stream",
          "name": "stdout",
          "text": [
            "[('Virat Kohli', 24936), ('Jack Kallis', 25534), ('Ricky Ponting', 27483), ('Sachin Tendulkar', 34357)]\n"
          ]
        }
      ],
      "source": [
        "list1=[('Sachin Tendulkar', 34357), ('Ricky Ponting', 27483), ('Jack Kallis', 25534), ('Virat Kohli', 24936)]\n",
        "sorted_list=sorted(list1, key=lambda x:x[1])\n",
        "print(sorted_list)"
      ]
    },
    {
      "cell_type": "markdown",
      "source": [
        "### **Solution (2)**:\n"
      ],
      "metadata": {
        "id": "dkFbTOnXqBoM"
      }
    },
    {
      "cell_type": "code",
      "source": [
        "list1=[1, 2, 3, 4, 5, 6, 7, 8, 9, 10]\n",
        "squared_list=list(map(lambda x:x**2,list1))\n",
        "print(squared_list)"
      ],
      "metadata": {
        "colab": {
          "base_uri": "https://localhost:8080/"
        },
        "id": "tJIDeqPoqKjP",
        "outputId": "107836a2-69af-43a7-f81e-ebff3467fb04"
      },
      "execution_count": 39,
      "outputs": [
        {
          "output_type": "stream",
          "name": "stdout",
          "text": [
            "[1, 4, 9, 16, 25, 36, 49, 64, 81, 100]\n"
          ]
        }
      ]
    },
    {
      "cell_type": "markdown",
      "source": [
        "### **Solution (3)**:"
      ],
      "metadata": {
        "id": "4299GLKGqtk5"
      }
    },
    {
      "cell_type": "code",
      "source": [
        "List=[1, 2, 3, 4, 5, 6, 7, 8, 9, 10]\n",
        "tuple_str=list(map(lambda x: str(x),List))\n",
        "print(tuple_str)"
      ],
      "metadata": {
        "colab": {
          "base_uri": "https://localhost:8080/"
        },
        "id": "0qi0aNGfq0dG",
        "outputId": "dde5a306-8429-451e-9146-1436a3e5f0f0"
      },
      "execution_count": 40,
      "outputs": [
        {
          "output_type": "stream",
          "name": "stdout",
          "text": [
            "['1', '2', '3', '4', '5', '6', '7', '8', '9', '10']\n"
          ]
        }
      ]
    },
    {
      "cell_type": "markdown",
      "source": [
        "### **Solution (4)**:"
      ],
      "metadata": {
        "id": "SLbp0tq5rVD_"
      }
    },
    {
      "cell_type": "code",
      "source": [
        "from functools import reduce\n",
        "result=reduce(lambda x,y:x*y, range(1,26))\n",
        "print(result)"
      ],
      "metadata": {
        "colab": {
          "base_uri": "https://localhost:8080/"
        },
        "id": "P5t954fXraZT",
        "outputId": "3f6a68eb-7eaf-4b49-f0b9-1535175a9bc7"
      },
      "execution_count": 41,
      "outputs": [
        {
          "output_type": "stream",
          "name": "stdout",
          "text": [
            "15511210043330985984000000\n"
          ]
        }
      ]
    },
    {
      "cell_type": "markdown",
      "source": [
        "### **Solution (5)**:"
      ],
      "metadata": {
        "id": "XE1X4EKkstFq"
      }
    },
    {
      "cell_type": "code",
      "source": [
        "list1=[2, 3, 6, 9, 27, 60, 90, 120, 55, 46]\n",
        "List=list(filter(lambda x: x%2==0 and x%3==0,list1))\n",
        "print(List)"
      ],
      "metadata": {
        "colab": {
          "base_uri": "https://localhost:8080/"
        },
        "id": "7QJqShMbsZEC",
        "outputId": "9e563a02-9d54-4ad7-a537-35b11d505beb"
      },
      "execution_count": 42,
      "outputs": [
        {
          "output_type": "stream",
          "name": "stdout",
          "text": [
            "[6, 60, 90, 120]\n"
          ]
        }
      ]
    },
    {
      "cell_type": "markdown",
      "source": [
        "### **Solution (6)**:"
      ],
      "metadata": {
        "id": "P_K0al8ptQ3V"
      }
    },
    {
      "cell_type": "code",
      "source": [
        "list1=['python', 'php', 'aba', 'radar', 'level']\n",
        "List=list(filter(lambda x: ''.join([i for i in reversed(x)])==x,list1))\n",
        "print(List)"
      ],
      "metadata": {
        "colab": {
          "base_uri": "https://localhost:8080/"
        },
        "id": "8gJEVz4BtVnH",
        "outputId": "44adc281-6f38-425c-89d7-86f3c56c61e4"
      },
      "execution_count": 43,
      "outputs": [
        {
          "output_type": "stream",
          "name": "stdout",
          "text": [
            "['php', 'aba', 'radar', 'level']\n"
          ]
        }
      ]
    },
    {
      "cell_type": "markdown",
      "source": [
        "# End of Assignment"
      ],
      "metadata": {
        "id": "trtSKSeJvX1D"
      }
    }
  ]
}