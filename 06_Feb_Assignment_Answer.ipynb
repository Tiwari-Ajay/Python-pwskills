{
  "nbformat": 4,
  "nbformat_minor": 0,
  "metadata": {
    "colab": {
      "provenance": []
    },
    "kernelspec": {
      "name": "python3",
      "display_name": "Python 3"
    },
    "language_info": {
      "name": "python"
    }
  },
  "cells": [
    {
      "cell_type": "markdown",
      "source": [
        "# **06 Feb Assignment Answer**:\n",
        "\n",
        "**Name: Ajay Tiwari**\n",
        "\n",
        "**Email: ajayktiwari02@gmail.com**"
      ],
      "metadata": {
        "id": "0xYcKNmXkuNc"
      }
    },
    {
      "cell_type": "markdown",
      "source": [
        "### **Solution (1)**:"
      ],
      "metadata": {
        "id": "952HF-I-lGtP"
      }
    },
    {
      "cell_type": "code",
      "execution_count": 74,
      "metadata": {
        "colab": {
          "base_uri": "https://localhost:8080/"
        },
        "id": "PaYJ5CxnOoXi",
        "outputId": "e92cd6b4-b5af-4868-ddb4-9cb53f3a844e"
      },
      "outputs": [
        {
          "output_type": "stream",
          "name": "stdout",
          "text": [
            "Multiplication: 4134711838987085478833841242112000\n"
          ]
        }
      ],
      "source": [
        "#problem-1\n",
        "def fun(list1, final=1):\n",
        "  for x in list1:\n",
        "    if isinstance(x, int) and (not isinstance(x, bool)):\n",
        "      final*=x\n",
        "    elif isinstance(x, list) or isinstance(x, tuple) or isinstance(x,set):\n",
        "      for p in x:\n",
        "        if isinstance(p, int) and (not isinstance(p, bool)):\n",
        "          final*=p\n",
        "    \n",
        "    elif isinstance(x,dict):\n",
        "      key=list(x.keys())\n",
        "      final=fun(key, final)\n",
        "      value=list(x.values())\n",
        "      final=fun(value,final)\n",
        "  return final\n",
        "      \n",
        "\n",
        "\n",
        "list1 = [1,2,3,4, [44,55,66, True], False, (34,56,78,89,34), {1,2,3,3,2,1}, {1:34, \"key2\": [55, 67, 78, 89], 4: (45,22, 61, 34)}, [56, 'data science'], 'Machine Learning']\n",
        "final=fun(list1,1)\n",
        "print('Multiplication: {}'.format(final))"
      ]
    },
    {
      "cell_type": "markdown",
      "source": [
        "### **Solution (2)**:"
      ],
      "metadata": {
        "id": "lkcn_VXElQ8j"
      }
    },
    {
      "cell_type": "code",
      "source": [
        "#Problem-2\n",
        "def encrypt(input_text):\n",
        "  input_text=input_text.lower()\n",
        "  input_text=list(input_text)\n",
        "  for i in range(len(input_text)):\n",
        "    if(ord(input_text[i])>=ord('a') and ord(input_text[i])<=ord('z')):\n",
        "      d1=chr(ord('z')-ord(input_text[i])+ord('a'))\n",
        "      input_text[i]=input_text[i].replace(input_text[i],d1)\n",
        "    elif(input_text[i].isspace()):\n",
        "      input_text[i]=input_text[i].replace(input_text[i],'$')\n",
        "  return ''.join(input_text)\n",
        "\n",
        "text='I want to become a Data Scientist.'\n",
        "text=encrypt(text)\n",
        "print('Output String: {}'.format(text))"
      ],
      "metadata": {
        "colab": {
          "base_uri": "https://localhost:8080/"
        },
        "id": "_ORSJkX9Udyn",
        "outputId": "82fa2138-5012-4bc5-a19d-ce939040c308"
      },
      "execution_count": 76,
      "outputs": [
        {
          "output_type": "stream",
          "name": "stdout",
          "text": [
            "Output String: r$dzmg$gl$yvxlnv$z$wzgz$hxrvmgrhg.\n"
          ]
        }
      ]
    },
    {
      "cell_type": "markdown",
      "source": [
        "### **End of Assignment**"
      ],
      "metadata": {
        "id": "7OJ_vxIAlYHK"
      }
    }
  ]
}