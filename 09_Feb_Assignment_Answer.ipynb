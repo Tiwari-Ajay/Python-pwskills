{
  "nbformat": 4,
  "nbformat_minor": 0,
  "metadata": {
    "colab": {
      "provenance": []
    },
    "kernelspec": {
      "name": "python3",
      "display_name": "Python 3"
    },
    "language_info": {
      "name": "python"
    }
  },
  "cells": [
    {
      "cell_type": "markdown",
      "source": [
        "# **09 Feb Assignment Answer**:\n",
        "\n",
        "\n",
        "**Name: Ajay Tiwari**\n",
        "\n",
        "**Email: ajayktiwari02@gmail.com**"
      ],
      "metadata": {
        "id": "byeAsbLzyce4"
      }
    },
    {
      "cell_type": "markdown",
      "source": [
        "### **Solution - (1)**:"
      ],
      "metadata": {
        "id": "N8pg8Ly_-za5"
      }
    },
    {
      "cell_type": "code",
      "execution_count": 29,
      "metadata": {
        "id": "ORxcqD9_yLOB"
      },
      "outputs": [],
      "source": [
        "#Answer - (1)\n",
        "class vehicle:\n",
        "  def __init__(self, name_of_vehicle,max_speed, average_of_vehicle):\n",
        "    self.name_of_vehicle=name_of_vehicle\n",
        "    self.max_speed=max_speed\n",
        "    self.average_of_vehicle=average_of_vehicle"
      ]
    },
    {
      "cell_type": "markdown",
      "source": [
        "### **Solution - (2)**:"
      ],
      "metadata": {
        "id": "ycF2Sdgx-6xo"
      }
    },
    {
      "cell_type": "code",
      "source": [
        "#Answer - (2)\n",
        "class car(vehicle):\n",
        "  def __init__(self,name_of_vehicle,max_speed, average_of_vehicle):\n",
        "    vehicle.__init__(self,name_of_vehicle,max_speed, average_of_vehicle)\n",
        "  def seating_capacity(self,capacity):\n",
        "    return self.name_of_vehicle,capacity"
      ],
      "metadata": {
        "id": "6U1vcbIezvBl"
      },
      "execution_count": 30,
      "outputs": []
    },
    {
      "cell_type": "code",
      "source": [
        "#use of above\n",
        "obj=car('Lamborghini Aventador','351 KMPH','7.69 kmpl') \n",
        "obj.seating_capacity('6498 cc')"
      ],
      "metadata": {
        "colab": {
          "base_uri": "https://localhost:8080/"
        },
        "id": "b-YEar2S0qsH",
        "outputId": "b7ecc7f8-e1f7-484a-e1da-ac9d0fcc816e"
      },
      "execution_count": 31,
      "outputs": [
        {
          "output_type": "execute_result",
          "data": {
            "text/plain": [
              "('Lamborghini Aventador', '6498 cc')"
            ]
          },
          "metadata": {},
          "execution_count": 31
        }
      ]
    },
    {
      "cell_type": "markdown",
      "source": [
        "### **Solution - (3)**:\n",
        "\n",
        "**What is multiple inheritance?:**\n",
        "\n",
        "- When a class is derived from more than one base class it is called multiple Inheritance."
      ],
      "metadata": {
        "id": "VAM-hsoS3UOB"
      }
    },
    {
      "cell_type": "code",
      "source": [
        "#Answer - (3)\n",
        "class A:\n",
        "  def __init__(self,x):\n",
        "    self.x=x\n",
        "  def printx(self):\n",
        "    print('x: ',x)\n",
        "\n",
        "class B:\n",
        "  def __init__(self,y):\n",
        "    self.y=y\n",
        "  def printy(self):\n",
        "    print('y: ',y)\n",
        "\n",
        "class C(A,B):\n",
        "  def __init__(self,x,y):\n",
        "    A.__init__(self,x)\n",
        "    B.__init__(self,y)\n",
        "  def addxy(self):\n",
        "    print('x+y: ',self.x+self.y)\n",
        "#use of above\n",
        "obj=C(5,6)\n",
        "obj.addxy()\n"
      ],
      "metadata": {
        "colab": {
          "base_uri": "https://localhost:8080/"
        },
        "id": "dMElOXIA2-lB",
        "outputId": "7944641d-946d-48e8-e753-aca29218c86b"
      },
      "execution_count": 32,
      "outputs": [
        {
          "output_type": "stream",
          "name": "stdout",
          "text": [
            "x+y:  11\n"
          ]
        }
      ]
    },
    {
      "cell_type": "markdown",
      "source": [
        "### **Solution - (4)**:\n",
        "\n",
        "- Getter: This method is used in Object-Oriented Programming (OOPS) which helps to access the private attributes from a class. \n",
        "- Setter: This method is used in OOPS feature which helps to set the value to private attributes in a class."
      ],
      "metadata": {
        "id": "_l4H-t1l5T12"
      }
    },
    {
      "cell_type": "code",
      "source": [
        "class Test:\n",
        "  def __init__(self):\n",
        "    pass\n",
        "  def set_x(self,x):\n",
        "    self.__x=x\n",
        "  def get_x(self):\n",
        "    return self.__x\n",
        "obj=Test()\n",
        "obj.set_x(12345)\n",
        "print('x value: ',obj.get_x())\n"
      ],
      "metadata": {
        "colab": {
          "base_uri": "https://localhost:8080/"
        },
        "id": "F-tirl5p5Rg-",
        "outputId": "0e2b3863-3c7a-49d3-fa3a-f3ccc7291198"
      },
      "execution_count": 33,
      "outputs": [
        {
          "output_type": "stream",
          "name": "stdout",
          "text": [
            "x value:  12345\n"
          ]
        }
      ]
    },
    {
      "cell_type": "markdown",
      "source": [
        "### **Solution - (5)**:\n",
        "\n",
        "**method overriding:**\n",
        "\n",
        "- Method overriding in Python is used when you have two methods with the same name that each perform different tasks.\n",
        "\n",
        "- Method overriding allows you to redefine a method in a subclass or the derived class previously defined in its parent or the superclass."
      ],
      "metadata": {
        "id": "Ot4EI_2H7ZR5"
      }
    },
    {
      "cell_type": "code",
      "source": [
        "class Parent:\n",
        "  def __init__(self,x):\n",
        "    self.x=x\n",
        "  def show(self):\n",
        "    print('Parent x value: ',self.x)\n",
        "class Child(Parent):\n",
        "  def __init__(self,x):\n",
        "    self.x=x\n",
        "  def show(self):\n",
        "    print('Child x value: ',self.x)\n",
        "obj1=Parent(100)\n",
        "obj1.show()\n",
        "obj2=Child(200)\n",
        "obj2.show()"
      ],
      "metadata": {
        "colab": {
          "base_uri": "https://localhost:8080/"
        },
        "id": "VXSNeO-97fQN",
        "outputId": "cb980355-501a-4f2f-84c5-1e94a5125a53"
      },
      "execution_count": 34,
      "outputs": [
        {
          "output_type": "stream",
          "name": "stdout",
          "text": [
            "Parent x value:  100\n",
            "Child x value:  200\n"
          ]
        }
      ]
    }
  ]
}