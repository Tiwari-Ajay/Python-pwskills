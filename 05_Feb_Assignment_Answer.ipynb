{
  "nbformat": 4,
  "nbformat_minor": 0,
  "metadata": {
    "colab": {
      "provenance": []
    },
    "kernelspec": {
      "name": "python3",
      "display_name": "Python 3"
    },
    "language_info": {
      "name": "python"
    }
  },
  "cells": [
    {
      "cell_type": "markdown",
      "source": [
        "# **05_Feb_Assignment_Answer**:"
      ],
      "metadata": {
        "id": "P2z8354WPvaS"
      }
    },
    {
      "cell_type": "markdown",
      "source": [
        "### **Solution (1)**:\n",
        "\n",
        "**Class:**\n",
        "\n",
        "- Class is nothing but blueprint of object.\n",
        "\n",
        "**Object:**\n",
        "\n",
        "- Object is nothing but instance of class. \n",
        "\n",
        "**Example below:**"
      ],
      "metadata": {
        "id": "bcUv_c4GP2y0"
      }
    },
    {
      "cell_type": "code",
      "execution_count": 19,
      "metadata": {
        "colab": {
          "base_uri": "https://localhost:8080/"
        },
        "id": "yqLdgal5PGDE",
        "outputId": "b6f6dcf2-009e-4302-9d88-148aa6225226"
      },
      "outputs": [
        {
          "output_type": "stream",
          "name": "stdout",
          "text": [
            "3\n"
          ]
        }
      ],
      "source": [
        "class Test:  #class creation\n",
        "  def __init__(self):\n",
        "    self.a=3\n",
        "  def print_fn(self):\n",
        "    print(self.a)\n",
        "obj=Test() #Object creation\n",
        "obj.print_fn()"
      ]
    },
    {
      "cell_type": "markdown",
      "source": [
        "### **Solution (2)**:\n",
        "\n",
        "**Four Pillors of Oops:**\n",
        "\n",
        "- (1) Inheritance: Inheritance is also known as IS-A relationship. It is based on Parent-Child relationship. In inheritance, A child class inherits the properties and methods of the parent class.\n",
        "\n",
        "- (2) Polymorphism: Polymorphism--> Poly+morphism means \"One thing having different form\".\n",
        "\n",
        "- (3) Encapsulation: It is nothing but \"wrapping data around the methods\".\n",
        "\n",
        "-  (4) Abstraction: It is nothing but \"hidding the data & highlighting the functionalities\"."
      ],
      "metadata": {
        "id": "YIrGN8UtRclS"
      }
    },
    {
      "cell_type": "markdown",
      "source": [
        "### **Solution (3)**:\n",
        "\n",
        "**why the \\_\\_init__() function is used?:**\n",
        "\n",
        "- \\_\\_init__() is also known as constructor. It is used to initialize the object's attribute.\n",
        "\n",
        "**Example Below:**"
      ],
      "metadata": {
        "id": "0JVG0-s8UE4P"
      }
    },
    {
      "cell_type": "code",
      "source": [
        "class Test1:  #class creation\n",
        "  def __init__(self,a,b,c):\n",
        "    self.a=a\n",
        "    self.b=b\n",
        "    self.c=c\n",
        "  def print_fn(self):\n",
        "    print(f'a= {self.a}, b={self.b}, c={self.c}')\n",
        "obj=Test1(11,12,13) #Object creation\n",
        "obj.print_fn()"
      ],
      "metadata": {
        "colab": {
          "base_uri": "https://localhost:8080/"
        },
        "id": "7rUHtBuARjAc",
        "outputId": "339c0ad6-afb4-41e8-9286-3533ec8f7ee1"
      },
      "execution_count": 20,
      "outputs": [
        {
          "output_type": "stream",
          "name": "stdout",
          "text": [
            "a= 11, b=12, c=13\n"
          ]
        }
      ]
    },
    {
      "cell_type": "markdown",
      "source": [
        "### **Solution (4):**\n",
        "\n",
        "**Why self is used in OOPs?:**\n",
        "\n",
        "- The self is used to represent the instance of the class.\n",
        "\n",
        "- By using self, we can access attributes & methods. \n",
        "\n",
        "- It binds the attributes with the given arguments.\n",
        "\n",
        "-  The reason why we use self is that Python does not use the ‘@’ syntax to refer to instance attributes."
      ],
      "metadata": {
        "id": "syWVcy17W-7e"
      }
    },
    {
      "cell_type": "markdown",
      "source": [
        "### **Solution (5)**:\n",
        "\n",
        "**What is inheritance?:**\n",
        "\n",
        "- Inheritance allows us to define a class that inherits all the methods and properties from another class.\n",
        "- Parent class is the class being inherited from, also called base class. Child class is the class that inherits from another class, also called derived class.\n",
        "\n",
        "**Types of Interitance:**\n",
        "\n",
        "- **Single inheritance**: When a child class inherits from only one parent class, it is called single inheritance.\n",
        "- **Multiple inheritances**: When a child class inherits from multiple parent classes, it is called multiple inheritances. \n",
        "- **Multilevel inheritance**: When we have a child and grandchild relationship. \n",
        "- **Hierarchical inheritance**: Hierarchical inheritance More than one derived class are created from a single base.\n",
        "- **Hybrid inheritance**: This form combines more than one form of inheritance. Basically, it is a blend of more than one type of inheritance."
      ],
      "metadata": {
        "id": "7rAkmptJbsPV"
      }
    },
    {
      "cell_type": "code",
      "source": [
        "#Single Inheritance\n",
        "class Parent:\n",
        "  def __init__(self, a,b):\n",
        "    self.a=a\n",
        "    self.b=b\n",
        "  def sum(self):\n",
        "    print('sum: {}'.format(self.a+self.b))\n",
        "class Child(Parent):\n",
        "  def __init__(self,a,b,c):\n",
        "    self.c=c\n",
        "    Parent.__init__(self,a,b)\n",
        "    \n",
        "  def difference(self):\n",
        "    print('difference: {}'.format(self.c-self.a))\n",
        "obj=Child(1,2,3)\n",
        "obj.difference()\n",
        "obj.sum()"
      ],
      "metadata": {
        "colab": {
          "base_uri": "https://localhost:8080/"
        },
        "id": "1CAk7YuBeh2e",
        "outputId": "76b072e2-92b0-4aa2-b2be-e5a2d0b0f3ad"
      },
      "execution_count": 21,
      "outputs": [
        {
          "output_type": "stream",
          "name": "stdout",
          "text": [
            "difference: 2\n",
            "sum: 3\n"
          ]
        }
      ]
    },
    {
      "cell_type": "code",
      "source": [
        "#Multiple Inheritance\n",
        "class Base1:\n",
        "  def __init__(self):\n",
        "    self.first_name='Ajay'\n",
        "  def first_name(self):\n",
        "    print('First Name: {}'.format(self.first_name))\n",
        "class Base2:\n",
        "  def __init__(self):\n",
        "    self.last_name='Tiwari'\n",
        "  def last_name(self):\n",
        "    print('Last Name: {}'.format(self.last_name))\n",
        "class Final(Base1, Base2):\n",
        "  def __init__(self):\n",
        "    Base1.__init__(self)\n",
        "    Base2.__init__(self)\n",
        "    print('Multiple Inheritance')\n",
        "  def full_name(self):\n",
        "    print('Full Name: {} {}'.format(self.first_name,self.last_name))\n",
        "\n",
        "obj=Final()\n",
        "obj.full_name()"
      ],
      "metadata": {
        "colab": {
          "base_uri": "https://localhost:8080/"
        },
        "id": "7ppLRDDXjHCW",
        "outputId": "2f12d964-8e80-4a6c-a8d2-7f7ae76962a2"
      },
      "execution_count": 22,
      "outputs": [
        {
          "output_type": "stream",
          "name": "stdout",
          "text": [
            "Multiple Inheritance\n",
            "Full Name: Ajay Tiwari\n"
          ]
        }
      ]
    },
    {
      "cell_type": "code",
      "source": [
        "#Multi-Level Inheritance\n",
        "class Base:\n",
        "  def __init__(self, name):\n",
        "    self.name=name\n",
        "    print('base')\n",
        "  def name(self):\n",
        "    print('Name: {}'.format(self.name))\n",
        "class Child1(Base):\n",
        "  def __init__(self, name,age):\n",
        "    self.age=age\n",
        "    print('child1')\n",
        "    Base.__init__(self, name)\n",
        "  def age(self):\n",
        "    print('Age: {}'.format(self.age))\n",
        "class Child2(Child1):\n",
        "  def __init__(self, name, age, address):\n",
        "    self.address=address\n",
        "    print('child2')\n",
        "    Child1.__init__(self, name, age)\n",
        "    print('Multi-Level Inheritance')\n",
        "  def full_address(self):\n",
        "    print('Address: {}'.format(self.address))\n",
        "  def information(self):\n",
        "    print('Full Name: {}, age: {}, address: {}'.format(self.name, self.age, self.address))\n",
        "\n",
        "obj=Child2('Ajay Tiwari', 25, 'Bengaluru')\n",
        "obj.information()"
      ],
      "metadata": {
        "colab": {
          "base_uri": "https://localhost:8080/"
        },
        "id": "UH7fuqN-llXs",
        "outputId": "b5dc3928-8b6a-419a-91e7-650418572f8c"
      },
      "execution_count": 23,
      "outputs": [
        {
          "output_type": "stream",
          "name": "stdout",
          "text": [
            "child2\n",
            "child1\n",
            "base\n",
            "Multi-Level Inheritance\n",
            "Full Name: Ajay Tiwari, age: 25, address: Bengaluru\n"
          ]
        }
      ]
    },
    {
      "cell_type": "code",
      "source": [
        "#Hierarchical Inheritance\n",
        "class Parent:\n",
        "  def __init__(self, a,b):\n",
        "    self.a=a\n",
        "    self.b=b\n",
        "  def sum(self):\n",
        "    print('sum: {}'.format(self.a+self.b))\n",
        "class Child1(Parent):\n",
        "  def __init__(self,a,b,c):\n",
        "    self.c=c\n",
        "    Parent.__init__(self,a,b)    \n",
        "  def difference(self):\n",
        "    print('difference: {}'.format(self.c-self.a))\n",
        "class Child2(Parent): \n",
        "  def __init__(self, a,b):\n",
        "    Parent.__init__(self,a,b)   \n",
        "  def multiplication(self):\n",
        "    print('multiplication: {}'.format(self.a*self.b))\n",
        "obj1=Child1(1,2,3)\n",
        "obj1.difference()\n",
        "obj1.sum()\n",
        "obj2=Child2(11,12)\n",
        "obj2.multiplication()\n"
      ],
      "metadata": {
        "colab": {
          "base_uri": "https://localhost:8080/"
        },
        "id": "5xnoJba-hCHS",
        "outputId": "cdd16d85-c43a-4ef7-dab5-2d0a027fdf2b"
      },
      "execution_count": 24,
      "outputs": [
        {
          "output_type": "stream",
          "name": "stdout",
          "text": [
            "difference: 2\n",
            "sum: 3\n",
            "multiplication: 132\n"
          ]
        }
      ]
    },
    {
      "cell_type": "code",
      "source": [
        "#Hybrid Inheritance (Multi-Level Inheritance + Multiple Inheritance)\n",
        "class Base:                      #multi-level Inheritance started\n",
        "  def __init__(self, name):\n",
        "    self.name=name\n",
        "    print('base')\n",
        "  def name(self):\n",
        "    print('Name: {}'.format(self.name))\n",
        "class Child1(Base):\n",
        "  def __init__(self, name,age):\n",
        "    self.age=age\n",
        "    print('child1')\n",
        "    Base.__init__(self, name)\n",
        "  def age(self):\n",
        "    print('Age: {}'.format(self.age))\n",
        "class Child2(Child1):\n",
        "  def __init__(self, name, age, city):\n",
        "    self.city=city\n",
        "    print('child2')\n",
        "    Child1.__init__(self, name, age)\n",
        "  def city(self):\n",
        "    print('City: {}'.format(self.city))\n",
        "  def information(self):\n",
        "    print('Full Name: {}, Age: {}, Address: {}'.format(self.name, self.age, self.city)) #multi-level Inheritance ended\n",
        "class Child3:                #Single class started\n",
        "  def __init__(self, adhar):\n",
        "    self.adhar=adhar\n",
        "    print('child3')\n",
        "  def adhar(self):\n",
        "    print('Adhar: {}'.format(self.adhar))   #Single class ended\n",
        "class Final(Child3, Child2): #Multiple Inheritance started\n",
        "  def __init__(self,name,age,city,pincode,adhar):\n",
        "    Child3.__init__(self,adhar)\n",
        "    Child2.__init__(self,name,age,city)\n",
        "    self.pincode=pincode\n",
        "    print('final')\n",
        "  def identity(self):\n",
        "    print('Identity: Name-{},Age-{},City-{},PinCode-{},Adhar-{}'.format(self.name,self.age,self.city, self.pincode, self.adhar))  #Multiple Inheritance ended\n",
        "\n",
        "obj=Final('Ajay Tiwari', 25, 'Bengaluru',560068,'1234123456788765')\n",
        "obj.identity()"
      ],
      "metadata": {
        "colab": {
          "base_uri": "https://localhost:8080/"
        },
        "id": "nldYZsFCpSc_",
        "outputId": "23d1a5fb-791f-431d-87c0-a2123faf259d"
      },
      "execution_count": 25,
      "outputs": [
        {
          "output_type": "stream",
          "name": "stdout",
          "text": [
            "child3\n",
            "child2\n",
            "child1\n",
            "base\n",
            "final\n",
            "Identity: Name-Ajay Tiwari,Age-25,City-Bengaluru,PinCode-560068,Adhar-1234123456788765\n"
          ]
        }
      ]
    }
  ]
}