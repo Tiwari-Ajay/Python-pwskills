{
  "nbformat": 4,
  "nbformat_minor": 0,
  "metadata": {
    "colab": {
      "provenance": []
    },
    "kernelspec": {
      "name": "python3",
      "display_name": "Python 3"
    },
    "language_info": {
      "name": "python"
    }
  },
  "cells": [
    {
      "cell_type": "markdown",
      "source": [
        "# **07 Feb Assignment Answer**:\n",
        "\n",
        "**Name: Ajay Tiwari**\n",
        "\n",
        "**Email: ajayktiwari02@gmail.com**"
      ],
      "metadata": {
        "id": "jYcov2paqMJj"
      }
    },
    {
      "cell_type": "markdown",
      "source": [
        "### **Solution (1)**:"
      ],
      "metadata": {
        "id": "bLxFPdOMy0Wi"
      }
    },
    {
      "cell_type": "code",
      "execution_count": 9,
      "metadata": {
        "colab": {
          "base_uri": "https://localhost:8080/"
        },
        "id": "EjTPmkcFqB07",
        "outputId": "57f8e7f3-bc09-46e5-86c6-93772f0a25d1"
      },
      "outputs": [
        {
          "output_type": "stream",
          "name": "stdout",
          "text": [
            "Enter Password: asdsdsds\n",
            "Invalid Password\n"
          ]
        }
      ],
      "source": [
        "#Answer-(1)\n",
        "def password_check(input_password):\n",
        "  upper_letter=0\n",
        "  lower_letter=0\n",
        "  number=0\n",
        "  special_char=0\n",
        "  if(len(input_password)!=10):\n",
        "    return 'Invalid Password'\n",
        "  else:\n",
        "    for x in list(input_password):\n",
        "      if x.isnumeric():\n",
        "        number+=1\n",
        "      elif(x.isalpha()):\n",
        "        if(x.isupper()):\n",
        "          upper_letter+=1\n",
        "        else:\n",
        "          lower_letter+=1\n",
        "      else:\n",
        "        special_char+=1\n",
        "    if(number>=1 and upper_letter>=2 and lower_letter>=2 and special_char>=3):\n",
        "      return 'Valid Password'\n",
        "    else:\n",
        "      return 'Invalid Password'\n",
        "  \n",
        "print(password_check(input(\"Enter Password: \")))"
      ]
    },
    {
      "cell_type": "markdown",
      "source": [
        "### **Solution (2)** :"
      ],
      "metadata": {
        "id": "FRypgNw6zDXL"
      }
    },
    {
      "cell_type": "markdown",
      "source": [
        "#### **Using List Comprehension**:"
      ],
      "metadata": {
        "id": "0YhBtLPLzMGI"
      }
    },
    {
      "cell_type": "code",
      "source": [
        "#Answer-(2)\n",
        "#Using List Comprehension\n",
        "def fun(st,tup):\n",
        "  ch=input('Enter start char: ')  # solution --> Check if the string starts with a particular letter.\n",
        "  list1=[True if st.startswith(ch) else False]\n",
        "  print(list1)\n",
        "  list2=['Yes' if st.isnumeric() else 'No']   #Solution --> Check if the string is numeric.\n",
        "  print(list2)\n",
        "  list3 = sorted([x for x in tup],key=lambda x:x[0]) #Solution --> Sort a list of tuples having fruit names and their quantity using key.\n",
        "  print('Sorting with key: ',list3)\n",
        "  list3 = sorted([x for x in tup],key=lambda x:x[1]) #Solution --> Sort a list of tuples having fruit names and their quantity using value.\n",
        "  print('Sorting with value: ',list3)\n",
        "  list4=[i**2 for i in range(1,11)]   #Solution -->Find the squares of numbers from 1 to 10.\n",
        "  print(list4)\n",
        "  list5=[pow(i,1/3) for i in range(1,11)]   #Solution --> Find the cube root of numbers from 1 to 10.\n",
        "  print(list5)\n",
        "  n=int(input('Enter a number to check even/odd: '))   # Solution --> Check if a given number is even.\n",
        "  list6=['Even' if n%2==0 else 'Odd']\n",
        "  print(list6)\n",
        "  list7=[1,2,3,4,5,6,7,8,9,10]  # Solution --> Filter odd numbers from the given list.\n",
        "  list7=[x for x in list7 if x%2!=0]\n",
        "  print(list7)\n",
        "  list8=[1,2,3,4,5,6,-1,-2,-3,-4,-5,0]\n",
        "  list9=[x for x in list8 if x>=0]  # Sort a list of integers into positive list.\n",
        "  list9.sort()\n",
        "  print('+ve list: ',list9)\n",
        "  list10=[x for x in list8 if x<0]  # Sort a list of integers into negative list.\n",
        "  list10.sort()\n",
        "  print('+ve list: ',list10)\n",
        "  list11=[]\n",
        "  list11.append(list10)\n",
        "  list11.append(list9)\n",
        "  print('After adding +ve and -ve list: ',list11)  #Solution --> Sort a list of integers into positive and negative integers lists.\n",
        "tup=[(\"mango\",99),(\"orange\",80), (\"grapes\", 1000)]\n",
        "fun('ajay',tup)  #Function call"
      ],
      "metadata": {
        "colab": {
          "base_uri": "https://localhost:8080/"
        },
        "id": "d6IrRLIavjWG",
        "outputId": "a1ff7a31-28c3-4f80-adcb-96880756b020"
      },
      "execution_count": 11,
      "outputs": [
        {
          "output_type": "stream",
          "name": "stdout",
          "text": [
            "Enter start char: a\n",
            "[True]\n",
            "['No']\n",
            "Sorting with key:  [('grapes', 1000), ('mango', 99), ('orange', 80)]\n",
            "Sorting with value:  [('orange', 80), ('mango', 99), ('grapes', 1000)]\n",
            "[1, 4, 9, 16, 25, 36, 49, 64, 81, 100]\n",
            "[1.0, 1.2599210498948732, 1.4422495703074083, 1.5874010519681994, 1.7099759466766968, 1.8171205928321397, 1.912931182772389, 2.0, 2.080083823051904, 2.154434690031884]\n",
            "Enter a number to check even/odd: 43\n",
            "['Odd']\n",
            "[1, 3, 5, 7, 9]\n",
            "+ve list:  [0, 1, 2, 3, 4, 5, 6]\n",
            "+ve list:  [-5, -4, -3, -2, -1]\n",
            "After adding +ve and -ve list:  [[-5, -4, -3, -2, -1], [0, 1, 2, 3, 4, 5, 6]]\n"
          ]
        }
      ]
    }
  ]
}